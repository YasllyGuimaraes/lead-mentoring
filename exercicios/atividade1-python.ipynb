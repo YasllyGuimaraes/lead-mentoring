{
 "cells": [
  {
   "cell_type": "markdown",
   "metadata": {},
   "source": [
    "# Revisão de Python"
   ]
  },
  {
   "cell_type": "markdown",
   "metadata": {},
   "source": [
    "As soluções devem ser desenvolvidas e demonstradas sua funcionalidade usando um Notebook (.ipynb). As questões que fazem perguntas sobre dados devem ser respondidas algoritimicamente e não por inspeção."
   ]
  },
  {
   "cell_type": "markdown",
   "metadata": {},
   "source": [
    "## 1\n",
    "Crie uma função que recebe como entrada uma string e retorna essa string com a primeira letra de cada palavra maiúscula. E.g.:\n",
    "\n",
    "**Entrada:** 'Eu gosto de estudar Python'\n",
    "\n",
    "**Saída:** 'Eu Gosto De Estudar Python'"
   ]
  },
  {
   "cell_type": "code",
   "execution_count": 2,
   "metadata": {},
   "outputs": [
    {
     "name": "stdout",
     "output_type": "stream",
     "text": [
      "Eu Gosto De Estudar Python\n"
     ]
    }
   ],
   "source": [
    "def mensagem(msg):\n",
    "    print(msg.title())\n",
    "\n",
    "\n",
    "mensagem('Eu gosto de estudar python')"
   ]
  },
  {
   "cell_type": "markdown",
   "metadata": {},
   "source": [
    "## 2\n",
    "Crie uma função que recebe como entrada uma string e uma lista de palavras e retorna a string filtrando as palavras presentes na lista, desconsiderando se as letras são maiúsculas ou minúsculas. E.g.:\n",
    "\n",
    "**Entrada:** 'Eu gosto de estudar Python', ['python', 'java', 'c++', 'de']\n",
    "\n",
    "**Saída:** 'Eu gosto estudar"
   ]
  },
  {
   "cell_type": "code",
   "execution_count": 26,
   "metadata": {},
   "outputs": [
    {
     "name": "stdout",
     "output_type": "stream",
     "text": [
      "eu gosto  estudar "
     ]
    }
   ],
   "source": [
    "def filtro(texto,lista):\n",
    "    texto = texto.lower()\n",
    "    \n",
    "    for x in lista:\n",
    "        if x in texto:\n",
    "            texto = texto.replace(x,'')\n",
    "\n",
    "    for x in texto:\n",
    "        print(f'{x}', end='')\n",
    "\n",
    "filtro('Eu gosto de estudar Python', ['python', 'java', 'c++', 'de'])"
   ]
  },
  {
   "cell_type": "markdown",
   "metadata": {},
   "source": [
    "# 3\n",
    "Crie uma função que recebe como entrada uma lista de números e retorna a média aritimética desses números. Faça um tratamento de erro para o caso de um valor da lista não seja um número. E.g.:\n",
    "\n",
    "**Entrada:** [10, 1,'teste', 4]\n",
    "\n",
    "**Saída:** 5"
   ]
  },
  {
   "cell_type": "code",
   "execution_count": 4,
   "metadata": {},
   "outputs": [
    {
     "name": "stdout",
     "output_type": "stream",
     "text": [
      "5.0\n"
     ]
    }
   ],
   "source": [
    "def media_aritmetica(lista):\n",
    "    \n",
    "    for x in lista:\n",
    "        if type(x) == str:\n",
    "            lista.remove(x)\n",
    "    \n",
    "    media = sum(lista) / len(lista)\n",
    "\n",
    "    print(media)\n",
    "\n",
    "\n",
    "media_aritmetica([10, 1,'teste', 4])\n"
   ]
  },
  {
   "cell_type": "markdown",
   "metadata": {},
   "source": [
    "## 4\n",
    "\n",
    "Crie uma função que recebe como entrada uma lista de números e uma string que indica se será retornado a média ou o somatório desses números. Faça um tratamento de erro para o caso de um valor da lista não seja um número ou a string seja um valor inesperado. E.g.:\n",
    "\n",
    "**Entrada:** [10, 1, 4], 'média'\n",
    "\n",
    "**Saída:** 5\n",
    "\n",
    "ou\n",
    "\n",
    "**Entrada:** [10, 1, 4], 'soma'\n",
    "\n",
    "**Saída:** 15"
   ]
  },
  {
   "cell_type": "code",
   "execution_count": 5,
   "metadata": {},
   "outputs": [
    {
     "name": "stdout",
     "output_type": "stream",
     "text": [
      "Média: 5.0\n"
     ]
    }
   ],
   "source": [
    "def operacao(lista, texto):\n",
    "    \n",
    "    for x in lista:\n",
    "        if type(x) == str:\n",
    "            lista.remove(x)\n",
    "\n",
    "    if texto == 'média':\n",
    "        return (f'Média: {sum(lista) / len(lista)}')\n",
    "\n",
    "    if texto == 'soma':\n",
    "        return (f'Soma: {sum(lista)}')\n",
    "\n",
    "    return('Operação não encontrada')\n",
    "\n",
    "\n",
    "print(operacao( [10, 1, 4], 'média'))\n"
   ]
  },
  {
   "cell_type": "markdown",
   "metadata": {},
   "source": [
    "## 5\n",
    "\n",
    "Crie uma função que recebe como entrada uma lista de valores e uma string que indica se será retornado a quantidade de valores únicos ou os valores únicos em si. Faça tratamento de erro para o caso de uma string inesperada. E.g.:\n",
    "\n",
    "**Entrada:** ['cachorro', 'tamanduá', 'cassaco', 'tamanduá', 'preá', 'cassaco'], 'n_unicos'\n",
    "\n",
    "**Saída:** 4\n",
    "\n",
    "ou\n",
    "\n",
    "**Entrada:** ['cachorro', 'tamanduá', 'cassaco', 'tamanduá', 'preá', 'cassaco'], 'unicos'\n",
    "\n",
    "**Saída:** ['cachorro', 'tamanduá', 'cassaco', 'preá']"
   ]
  },
  {
   "cell_type": "code",
   "execution_count": 6,
   "metadata": {},
   "outputs": [
    {
     "name": "stdout",
     "output_type": "stream",
     "text": [
      "{'cachorro', 'tamanduá', 'preá', 'cassaco'}\n",
      "4\n"
     ]
    }
   ],
   "source": [
    "def filtro(lista, texto):\n",
    "    \n",
    "    lista = set(lista)\n",
    "\n",
    "    for x in lista:\n",
    "        if type(x) != str:\n",
    "            lista.remove(x)\n",
    "\n",
    "    if texto == 'n_unicos':\n",
    "        return len(lista)\n",
    "\n",
    "    if texto == 'unicos':\n",
    "        return lista\n",
    "\n",
    "    \n",
    "print(filtro(['cachorro', 'tamanduá', 'cassaco', 'tamanduá', 'preá', 'cassaco'], 'unicos'))\n",
    "print(filtro(['cachorro', 'tamanduá', 'cassaco', 'tamanduá', 'preá', 'cassaco'], 'n_unicos'))\n"
   ]
  },
  {
   "cell_type": "markdown",
   "metadata": {},
   "source": [
    "## 6\n",
    "\n",
    "Considere o arquivo atividade1.txt. Faça a leitura do conteúdo do arquivo e armazene-o em uma string. Qual a quantidade total de palavras e a quantidade de palavras únicas?\n",
    "\n"
   ]
  },
  {
   "cell_type": "code",
   "execution_count": 6,
   "metadata": {},
   "outputs": [
    {
     "name": "stdout",
     "output_type": "stream",
     "text": [
      "This is a new first line\n",
      "Another line here. Then, this is the second line.\n",
      "Finally, this is the last line.\n",
      "Quantidade total de palavras: 21\n",
      "Quantidade de palavras únicas: 15\n"
     ]
    }
   ],
   "source": [
    "import os\n",
    "path = r\"C:\\Users\\Yaslly\\github-repositories\\lead-mentoring\\data\"\n",
    "os.chdir(path)\n",
    "\n",
    "arquivo = open('atividade1.txt', 'r')\n",
    "conteudo = arquivo.read()\n",
    "arquivo.close()\n",
    "\n",
    "print(f'{conteudo}')\n",
    "\n",
    "lista = conteudo.split()\n",
    "\n",
    "palavras = len(lista)\n",
    "print(f'Quantidade total de palavras: {palavras}')\n",
    "\n",
    "palavras_u = len(set(lista))\n",
    "print(f'Quantidade de palavras únicas: {palavras_u}')"
   ]
  },
  {
   "cell_type": "code",
   "execution_count": null,
   "metadata": {},
   "outputs": [],
   "source": []
  }
 ],
 "metadata": {
  "kernelspec": {
   "display_name": "Python 3.9.12 ('lead-mentoring')",
   "language": "python",
   "name": "python3"
  },
  "language_info": {
   "codemirror_mode": {
    "name": "ipython",
    "version": 3
   },
   "file_extension": ".py",
   "mimetype": "text/x-python",
   "name": "python",
   "nbconvert_exporter": "python",
   "pygments_lexer": "ipython3",
   "version": "3.9.12"
  },
  "orig_nbformat": 4,
  "vscode": {
   "interpreter": {
    "hash": "c7c78502f28da3faec6aabe3ce38dfaa05ded3e912a3d69aabbcbd566739ac8b"
   }
  }
 },
 "nbformat": 4,
 "nbformat_minor": 2
}
