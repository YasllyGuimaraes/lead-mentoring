{
 "cells": [
  {
   "cell_type": "markdown",
   "metadata": {},
   "source": [
    "# 1\n",
    "Utilize o conjunto de dados [Go To College Dataset](https://www.kaggle.com/datasets/saddamazyazy/go-to-college-dataset) ou um conjunto de dados de **classificação supervisionada** de sua escolha."
   ]
  },
  {
   "cell_type": "markdown",
   "metadata": {},
   "source": [
    "# 2\n",
    "Salve o melhor modelo. O melhor modelo deve ser escolhido após EDA, treino, otimização de hiperparâmetros e avaliação de resultados."
   ]
  },
  {
   "cell_type": "markdown",
   "metadata": {},
   "source": [
    "Depois de de todas essas avaliações que foram feitas a partir da atividade 6 até a atividade 8, foi escolhido o MLP de 1 camada oculta como o melhor modelo."
   ]
  },
  {
   "cell_type": "markdown",
   "metadata": {},
   "source": [
    "Atividade 6: https://github.com/YasllyGuimaraes/lead-mentoring/blob/main/exercicios/atividade6-knn_pt2.ipynb\n",
    "\n",
    "Atividade 7: https://github.com/YasllyGuimaraes/lead-mentoring/blob/main/exercicios/atividade7-knn_pt3.ipynb\n",
    "\n",
    "Atividade 8: https://github.com/YasllyGuimaraes/lead-mentoring/blob/main/exercicios/atividade8-classification.ipynb"
   ]
  },
  {
   "cell_type": "markdown",
   "metadata": {},
   "source": [
    "# 3\n",
    "\n",
    "Crie uma API utilizando FastAPI, e faça o deploy no Heroku."
   ]
  },
  {
   "cell_type": "markdown",
   "metadata": {},
   "source": [
    "Atividade feita no repositório: https://github.com/YasllyGuimaraes/api-project"
   ]
  }
 ],
 "metadata": {
  "kernelspec": {
   "display_name": "Python 3.9.12 ('lead-mentoring')",
   "language": "python",
   "name": "python3"
  },
  "language_info": {
   "codemirror_mode": {
    "name": "ipython",
    "version": 3
   },
   "file_extension": ".py",
   "mimetype": "text/x-python",
   "name": "python",
   "nbconvert_exporter": "python",
   "pygments_lexer": "ipython3",
   "version": "3.9.12"
  },
  "orig_nbformat": 4,
  "vscode": {
   "interpreter": {
    "hash": "c7c78502f28da3faec6aabe3ce38dfaa05ded3e912a3d69aabbcbd566739ac8b"
   }
  }
 },
 "nbformat": 4,
 "nbformat_minor": 2
}
